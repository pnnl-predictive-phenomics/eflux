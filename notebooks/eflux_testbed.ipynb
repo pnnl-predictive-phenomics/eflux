{
 "cells": [
  {
   "cell_type": "code",
   "execution_count": 1,
   "metadata": {},
   "outputs": [],
   "source": [
    "import cobra\n",
    "import pandas as pd\n",
    "from eflux.utils import get_flux_bounds, get_gpr_dict, gene_expression_to_enzyme_activity, convert_transcriptomics_to_enzyme_activity"
   ]
  },
  {
   "cell_type": "code",
   "execution_count": 2,
   "metadata": {},
   "outputs": [],
   "source": [
    "def get_cobra_model():\n",
    "    \"\"\"Fixture for testing a toy cobra model.\"\"\"\n",
    "    model = cobra.Model(\"test_model\")\n",
    "    r1 = cobra.Reaction(\"r1\")\n",
    "    r2 = cobra.Reaction(\"r2\")\n",
    "    r3 = cobra.Reaction(\"r3\")\n",
    "    r4 = cobra.Reaction(\"r4\")\n",
    "\n",
    "    model.add_metabolites([cobra.Metabolite(\"m1\"), cobra.Metabolite(\"m2\"), cobra.Metabolite(\"m3\")])\n",
    "    r1.add_metabolites({model.metabolites.m1: 1})\n",
    "    r2.add_metabolites({model.metabolites.m1: -1, model.metabolites.m2: 1})\n",
    "    r3.add_metabolites({model.metabolites.m2: -1, model.metabolites.m3: 1})\n",
    "    r4.add_metabolites({model.metabolites.m3: -1})\n",
    "\n",
    "    # Set flux bounds for r1 and r2\n",
    "    r2.bounds = (0.01, 10)\n",
    "    r3.bounds = (0, 5)\n",
    "\n",
    "    model.add_reactions([r1, r2, r3, r4])\n",
    "    return model\n",
    "\n",
    "\n",
    "def add_genes_to_r2(cobra_model):\n",
    "    r2 = cobra_model.reactions.get_by_id(\"r2\")\n",
    "    r2.gene_reaction_rule = \"gene1 and gene2\"\n",
    "    return cobra_model\n",
    "\n",
    "\n",
    "def add_genes_to_r3(cobra_model_1):\n",
    "    r3 = cobra_model_1.reactions.get_by_id(\"r3\")\n",
    "    r3.gene_reaction_rule = \"(gene5 and gene6) or (gene7 and gene8)\"\n",
    "    return cobra_model_1\n",
    "\n"
   ]
  },
  {
   "cell_type": "code",
   "execution_count": 3,
   "metadata": {},
   "outputs": [
    {
     "name": "stdout",
     "output_type": "stream",
     "text": [
      "Set parameter TokenServer to value \"leghorn.emsl.pnl.gov\"\n"
     ]
    }
   ],
   "source": [
    "this_cobra_model = get_cobra_model()\n",
    "this_cobra_model_1 = add_genes_to_r2(this_cobra_model)\n",
    "this_cobra_model_2 = add_genes_to_r3(this_cobra_model_1)"
   ]
  },
  {
   "cell_type": "code",
   "execution_count": 4,
   "metadata": {},
   "outputs": [
    {
     "data": {
      "text/plain": [
       "{<Reaction r2 at 0x177f0d190>: {frozenset({'gene1', 'gene2'})},\n",
       " <Reaction r3 at 0x104c7eed0>: {frozenset({'gene7', 'gene8'}),\n",
       "  frozenset({'gene5', 'gene6'})}}"
      ]
     },
     "execution_count": 4,
     "metadata": {},
     "output_type": "execute_result"
    }
   ],
   "source": [
    "get_gpr_dict(this_cobra_model)"
   ]
  },
  {
   "cell_type": "code",
   "execution_count": 5,
   "metadata": {},
   "outputs": [
    {
     "data": {
      "text/html": [
       "\n",
       "        <table>\n",
       "            <tr>\n",
       "                <td><strong>Reaction identifier</strong></td><td>r2</td>\n",
       "            </tr><tr>\n",
       "                <td><strong>Name</strong></td><td></td>\n",
       "            </tr><tr>\n",
       "                <td><strong>Memory address</strong></td>\n",
       "                <td>0x2b43ef3d0</td>\n",
       "            </tr><tr>\n",
       "                <td><strong>Stoichiometry</strong></td>\n",
       "                <td>\n",
       "                    <p style='text-align:right'>m1 --> m2</p>\n",
       "                    <p style='text-align:right'>--></p>\n",
       "                </td>\n",
       "            </tr><tr>\n",
       "                <td><strong>GPR</strong></td><td>gene1 and gene2</td>\n",
       "            </tr><tr>\n",
       "                <td><strong>Lower bound</strong></td><td>0.01</td>\n",
       "            </tr><tr>\n",
       "                <td><strong>Upper bound</strong></td><td>10</td>\n",
       "            </tr>\n",
       "        </table>\n",
       "        "
      ],
      "text/plain": [
       "<Reaction r2 at 0x2b43ef3d0>"
      ]
     },
     "execution_count": 5,
     "metadata": {},
     "output_type": "execute_result"
    }
   ],
   "source": [
    "this_cobra_model.reactions.get_by_id('r2')"
   ]
  },
  {
   "cell_type": "code",
   "execution_count": 6,
   "metadata": {},
   "outputs": [
    {
     "data": {
      "text/html": [
       "\n",
       "        <table>\n",
       "            <tr>\n",
       "                <td><strong>Reaction identifier</strong></td><td>r2</td>\n",
       "            </tr><tr>\n",
       "                <td><strong>Name</strong></td><td></td>\n",
       "            </tr><tr>\n",
       "                <td><strong>Memory address</strong></td>\n",
       "                <td>0x2b43ef3d0</td>\n",
       "            </tr><tr>\n",
       "                <td><strong>Stoichiometry</strong></td>\n",
       "                <td>\n",
       "                    <p style='text-align:right'>m1 --> m2</p>\n",
       "                    <p style='text-align:right'>--></p>\n",
       "                </td>\n",
       "            </tr><tr>\n",
       "                <td><strong>GPR</strong></td><td>(gene1 and gene2) or (gene3 and gene4)</td>\n",
       "            </tr><tr>\n",
       "                <td><strong>Lower bound</strong></td><td>0.01</td>\n",
       "            </tr><tr>\n",
       "                <td><strong>Upper bound</strong></td><td>10</td>\n",
       "            </tr>\n",
       "        </table>\n",
       "        "
      ],
      "text/plain": [
       "<Reaction r2 at 0x2b43ef3d0>"
      ]
     },
     "execution_count": 6,
     "metadata": {},
     "output_type": "execute_result"
    }
   ],
   "source": [
    "this_cobra_model.reactions.get_by_id('r2').gene_reaction_rule = \"(gene1 and gene2) or (gene3 and gene4)\"\n",
    "this_cobra_model.reactions.get_by_id('r2')"
   ]
  },
  {
   "cell_type": "code",
   "execution_count": 7,
   "metadata": {},
   "outputs": [
    {
     "data": {
      "text/plain": [
       "{<Reaction r2 at 0x2b43ef3d0>: {frozenset({'gene3', 'gene4'}),\n",
       "  frozenset({'gene1', 'gene2'})},\n",
       " <Reaction r3 at 0x2b59e4850>: {frozenset({'gene5', 'gene6'}),\n",
       "  frozenset({'gene7', 'gene8'})}}"
      ]
     },
     "execution_count": 7,
     "metadata": {},
     "output_type": "execute_result"
    }
   ],
   "source": [
    "get_gpr_dict(this_cobra_model)"
   ]
  },
  {
   "cell_type": "code",
   "execution_count": null,
   "metadata": {},
   "outputs": [],
   "source": []
  },
  {
   "cell_type": "code",
   "execution_count": 8,
   "metadata": {},
   "outputs": [
    {
     "data": {
      "text/plain": [
       "[<Reaction r1 at 0x111aa17d0>,\n",
       " <Reaction r2 at 0x2b43ef3d0>,\n",
       " <Reaction r3 at 0x2b59e4850>,\n",
       " <Reaction r4 at 0x2b59e5350>]"
      ]
     },
     "execution_count": 8,
     "metadata": {},
     "output_type": "execute_result"
    }
   ],
   "source": [
    "rxns = list(this_cobra_model.reactions)\n",
    "rxns"
   ]
  },
  {
   "cell_type": "code",
   "execution_count": 9,
   "metadata": {},
   "outputs": [
    {
     "data": {
      "text/html": [
       "\n",
       "        <table>\n",
       "            <tr>\n",
       "                <td><strong>Name</strong></td>\n",
       "                <td>test_model</td>\n",
       "            </tr><tr>\n",
       "                <td><strong>Memory address</strong></td>\n",
       "                <td>2b59e5490</td>\n",
       "            </tr><tr>\n",
       "                <td><strong>Number of metabolites</strong></td>\n",
       "                <td>3</td>\n",
       "            </tr><tr>\n",
       "                <td><strong>Number of reactions</strong></td>\n",
       "                <td>4</td>\n",
       "            </tr><tr>\n",
       "                <td><strong>Number of genes</strong></td>\n",
       "                <td>8</td>\n",
       "            </tr><tr>\n",
       "                <td><strong>Number of groups</strong></td>\n",
       "                <td>0</td>\n",
       "            </tr><tr>\n",
       "                <td><strong>Objective expression</strong></td>\n",
       "                <td>0</td>\n",
       "            </tr><tr>\n",
       "                <td><strong>Compartments</strong></td>\n",
       "                <td></td>\n",
       "            </tr>\n",
       "          </table>"
      ],
      "text/plain": [
       "<Model test_model at 0x2b59e5490>"
      ]
     },
     "execution_count": 9,
     "metadata": {},
     "output_type": "execute_result"
    }
   ],
   "source": [
    "this_cobra_model_2"
   ]
  },
  {
   "cell_type": "code",
   "execution_count": 10,
   "metadata": {},
   "outputs": [
    {
     "data": {
      "text/plain": [
       "{'gene1': 1.0,\n",
       " 'gene2': 2.0,\n",
       " 'gene3': 3.0,\n",
       " 'gene4': 4.0,\n",
       " 'gene5': 5.0,\n",
       " 'gene6': 6.0,\n",
       " 'gene7': 7.0,\n",
       " 'gene8': 8.0}"
      ]
     },
     "execution_count": 10,
     "metadata": {},
     "output_type": "execute_result"
    }
   ],
   "source": [
    "expression = {\"gene1\": 1.0, \"gene2\": 2.0, \"gene3\": 3.0, \"gene4\": 4.0, \"gene5\": 5.0, \"gene6\": 6.0, \"gene7\": 7.0, \"gene8\": 8.0}\n",
    "expression"
   ]
  },
  {
   "cell_type": "code",
   "execution_count": 11,
   "metadata": {},
   "outputs": [
    {
     "name": "stdout",
     "output_type": "stream",
     "text": [
      "{<Reaction r2 at 0x2b43ef3d0>: {frozenset({'gene4', 'gene3'}), frozenset({'gene2', 'gene1'})}, <Reaction r3 at 0x2b59e4850>: {frozenset({'gene5', 'gene6'}), frozenset({'gene7', 'gene8'})}}\n"
     ]
    },
    {
     "data": {
      "text/plain": [
       "{<Reaction r1 at 0x111aa17d0>: nan,\n",
       " <Reaction r2 at 0x2b43ef3d0>: 4.0,\n",
       " <Reaction r3 at 0x2b59e4850>: 12.0,\n",
       " <Reaction r4 at 0x2b59e5350>: nan}"
      ]
     },
     "execution_count": 11,
     "metadata": {},
     "output_type": "execute_result"
    }
   ],
   "source": [
    "gpr = get_gpr_dict(this_cobra_model_2)\n",
    "print(gpr)\n",
    "gene_expression_to_enzyme_activity(this_cobra_model_2, gpr, expression)"
   ]
  },
  {
   "cell_type": "code",
   "execution_count": 12,
   "metadata": {},
   "outputs": [
    {
     "data": {
      "text/html": [
       "<div>\n",
       "<style scoped>\n",
       "    .dataframe tbody tr th:only-of-type {\n",
       "        vertical-align: middle;\n",
       "    }\n",
       "\n",
       "    .dataframe tbody tr th {\n",
       "        vertical-align: top;\n",
       "    }\n",
       "\n",
       "    .dataframe thead th {\n",
       "        text-align: right;\n",
       "    }\n",
       "</style>\n",
       "<table border=\"1\" class=\"dataframe\">\n",
       "  <thead>\n",
       "    <tr style=\"text-align: right;\">\n",
       "      <th></th>\n",
       "      <th>strain1</th>\n",
       "      <th>strain2</th>\n",
       "    </tr>\n",
       "  </thead>\n",
       "  <tbody>\n",
       "    <tr>\n",
       "      <th>gene1</th>\n",
       "      <td>1</td>\n",
       "      <td>6</td>\n",
       "    </tr>\n",
       "    <tr>\n",
       "      <th>gene2</th>\n",
       "      <td>2</td>\n",
       "      <td>7</td>\n",
       "    </tr>\n",
       "    <tr>\n",
       "      <th>gene3</th>\n",
       "      <td>3</td>\n",
       "      <td>8</td>\n",
       "    </tr>\n",
       "    <tr>\n",
       "      <th>gene5</th>\n",
       "      <td>4</td>\n",
       "      <td>9</td>\n",
       "    </tr>\n",
       "    <tr>\n",
       "      <th>gene6</th>\n",
       "      <td>5</td>\n",
       "      <td>10</td>\n",
       "    </tr>\n",
       "  </tbody>\n",
       "</table>\n",
       "</div>"
      ],
      "text/plain": [
       "       strain1  strain2\n",
       "gene1        1        6\n",
       "gene2        2        7\n",
       "gene3        3        8\n",
       "gene5        4        9\n",
       "gene6        5       10"
      ]
     },
     "execution_count": 12,
     "metadata": {},
     "output_type": "execute_result"
    }
   ],
   "source": [
    "transcriptomics = pd.DataFrame({'strain1': [1, 2, 3, 4, 5], 'strain2': [6, 7, 8, 9, 10]}, index=['gene1', 'gene2', 'gene3', 'gene5', 'gene6'])\n",
    "transcriptomics"
   ]
  },
  {
   "cell_type": "code",
   "execution_count": 14,
   "metadata": {},
   "outputs": [
    {
     "data": {
      "text/html": [
       "<div>\n",
       "<style scoped>\n",
       "    .dataframe tbody tr th:only-of-type {\n",
       "        vertical-align: middle;\n",
       "    }\n",
       "\n",
       "    .dataframe tbody tr th {\n",
       "        vertical-align: top;\n",
       "    }\n",
       "\n",
       "    .dataframe thead th {\n",
       "        text-align: right;\n",
       "    }\n",
       "</style>\n",
       "<table border=\"1\" class=\"dataframe\">\n",
       "  <thead>\n",
       "    <tr style=\"text-align: right;\">\n",
       "      <th></th>\n",
       "      <th>Reaction_ID</th>\n",
       "      <th>strain1</th>\n",
       "      <th>strain2</th>\n",
       "    </tr>\n",
       "  </thead>\n",
       "  <tbody>\n",
       "    <tr>\n",
       "      <th>r1:  --&gt; m1</th>\n",
       "      <td>r1</td>\n",
       "      <td>NaN</td>\n",
       "      <td>NaN</td>\n",
       "    </tr>\n",
       "    <tr>\n",
       "      <th>r2: m1 --&gt; m2</th>\n",
       "      <td>r2</td>\n",
       "      <td>4.0</td>\n",
       "      <td>14.0</td>\n",
       "    </tr>\n",
       "    <tr>\n",
       "      <th>r3: m2 --&gt; m3</th>\n",
       "      <td>r3</td>\n",
       "      <td>inf</td>\n",
       "      <td>inf</td>\n",
       "    </tr>\n",
       "    <tr>\n",
       "      <th>r4: m3 --&gt;</th>\n",
       "      <td>r4</td>\n",
       "      <td>NaN</td>\n",
       "      <td>NaN</td>\n",
       "    </tr>\n",
       "  </tbody>\n",
       "</table>\n",
       "</div>"
      ],
      "text/plain": [
       "              Reaction_ID  strain1  strain2\n",
       "r1:  --> m1            r1      NaN      NaN\n",
       "r2: m1 --> m2          r2      4.0     14.0\n",
       "r3: m2 --> m3          r3      inf      inf\n",
       "r4: m3 -->             r4      NaN      NaN"
      ]
     },
     "execution_count": 14,
     "metadata": {},
     "output_type": "execute_result"
    }
   ],
   "source": [
    "convert_transcriptomics_to_enzyme_activity(transcriptomics, this_cobra_model_2)"
   ]
  },
  {
   "cell_type": "code",
   "execution_count": 22,
   "metadata": {},
   "outputs": [
    {
     "name": "stdout",
     "output_type": "stream",
     "text": [
      "{<Reaction r2 at 0x2b58ebf10>: {frozenset({'gene2', 'gene1'})}, <Reaction r3 at 0x2b706b690>: {frozenset({'gene6', 'gene5'}), frozenset({'gene7', 'gene8'})}}\n"
     ]
    },
    {
     "data": {
      "text/plain": [
       "{<Reaction r1 at 0x2b7662a50>: nan,\n",
       " <Reaction r2 at 0x2b58ebf10>: 6.0,\n",
       " <Reaction r3 at 0x2b706b690>: inf,\n",
       " <Reaction r4 at 0x2b7009190>: nan}"
      ]
     },
     "execution_count": 22,
     "metadata": {},
     "output_type": "execute_result"
    }
   ],
   "source": [
    "gpr = get_gpr_dict(this_cobra_model_2)\n",
    "print(gpr)\n",
    "gene_expression_to_enzyme_activity(this_cobra_model_2, gpr, transcriptomics['strain2'])"
   ]
  },
  {
   "cell_type": "code",
   "execution_count": null,
   "metadata": {},
   "outputs": [],
   "source": []
  },
  {
   "cell_type": "code",
   "execution_count": 15,
   "metadata": {},
   "outputs": [
    {
     "data": {
      "text/html": [
       "\n",
       "        <table>\n",
       "            <tr>\n",
       "                <td><strong>Name</strong></td>\n",
       "                <td>test_model</td>\n",
       "            </tr><tr>\n",
       "                <td><strong>Memory address</strong></td>\n",
       "                <td>2b438f410</td>\n",
       "            </tr><tr>\n",
       "                <td><strong>Number of metabolites</strong></td>\n",
       "                <td>3</td>\n",
       "            </tr><tr>\n",
       "                <td><strong>Number of reactions</strong></td>\n",
       "                <td>4</td>\n",
       "            </tr><tr>\n",
       "                <td><strong>Number of genes</strong></td>\n",
       "                <td>0</td>\n",
       "            </tr><tr>\n",
       "                <td><strong>Number of groups</strong></td>\n",
       "                <td>0</td>\n",
       "            </tr><tr>\n",
       "                <td><strong>Objective expression</strong></td>\n",
       "                <td>0</td>\n",
       "            </tr><tr>\n",
       "                <td><strong>Compartments</strong></td>\n",
       "                <td></td>\n",
       "            </tr>\n",
       "          </table>"
      ],
      "text/plain": [
       "<Model test_model at 0x2b438f410>"
      ]
     },
     "execution_count": 15,
     "metadata": {},
     "output_type": "execute_result"
    }
   ],
   "source": [
    "model = get_cobra_model()\n",
    "model"
   ]
  },
  {
   "cell_type": "code",
   "execution_count": 16,
   "metadata": {},
   "outputs": [
    {
     "name": "stdout",
     "output_type": "stream",
     "text": [
      "r1:  --> m1 (0.0, 1000.0)\n",
      "r2: m1 --> m2 (0.01, 10)\n",
      "r3: m2 --> m3 (0, 5)\n",
      "r4: m3 -->  (0.0, 1000.0)\n"
     ]
    }
   ],
   "source": [
    "for r in model.reactions:\n",
    "    print(r, r.bounds)"
   ]
  },
  {
   "cell_type": "code",
   "execution_count": 17,
   "metadata": {},
   "outputs": [],
   "source": [
    "model.reactions.r4.lower_bound = 6"
   ]
  },
  {
   "cell_type": "code",
   "execution_count": 18,
   "metadata": {},
   "outputs": [
    {
     "ename": "OptimizationError",
     "evalue": "Solver status is 'infeasible'.",
     "output_type": "error",
     "traceback": [
      "\u001b[0;31m---------------------------------------------------------------------------\u001b[0m",
      "\u001b[0;31mOptimizationError\u001b[0m                         Traceback (most recent call last)",
      "Cell \u001b[0;32mIn[18], line 1\u001b[0m\n\u001b[0;32m----> 1\u001b[0m \u001b[43mmodel\u001b[49m\u001b[38;5;241;43m.\u001b[39;49m\u001b[43moptimize\u001b[49m\u001b[43m(\u001b[49m\u001b[43mraise_error\u001b[49m\u001b[38;5;241;43m=\u001b[39;49m\u001b[38;5;28;43;01mTrue\u001b[39;49;00m\u001b[43m)\u001b[49m\n",
      "File \u001b[0;32m~/.pyenv/versions/3.11.5/envs/bmca/lib/python3.11/site-packages/cobra/core/model.py:1233\u001b[0m, in \u001b[0;36mModel.optimize\u001b[0;34m(self, objective_sense, raise_error)\u001b[0m\n\u001b[1;32m   1229\u001b[0m \u001b[38;5;28mself\u001b[39m\u001b[38;5;241m.\u001b[39mobjective\u001b[38;5;241m.\u001b[39mdirection \u001b[38;5;241m=\u001b[39m {\u001b[38;5;124m\"\u001b[39m\u001b[38;5;124mmaximize\u001b[39m\u001b[38;5;124m\"\u001b[39m: \u001b[38;5;124m\"\u001b[39m\u001b[38;5;124mmax\u001b[39m\u001b[38;5;124m\"\u001b[39m, \u001b[38;5;124m\"\u001b[39m\u001b[38;5;124mminimize\u001b[39m\u001b[38;5;124m\"\u001b[39m: \u001b[38;5;124m\"\u001b[39m\u001b[38;5;124mmin\u001b[39m\u001b[38;5;124m\"\u001b[39m}\u001b[38;5;241m.\u001b[39mget(\n\u001b[1;32m   1230\u001b[0m     objective_sense, original_direction\n\u001b[1;32m   1231\u001b[0m )\n\u001b[1;32m   1232\u001b[0m \u001b[38;5;28mself\u001b[39m\u001b[38;5;241m.\u001b[39mslim_optimize()\n\u001b[0;32m-> 1233\u001b[0m solution \u001b[38;5;241m=\u001b[39m \u001b[43mget_solution\u001b[49m\u001b[43m(\u001b[49m\u001b[38;5;28;43mself\u001b[39;49m\u001b[43m,\u001b[49m\u001b[43m \u001b[49m\u001b[43mraise_error\u001b[49m\u001b[38;5;241;43m=\u001b[39;49m\u001b[43mraise_error\u001b[49m\u001b[43m)\u001b[49m\n\u001b[1;32m   1234\u001b[0m \u001b[38;5;28mself\u001b[39m\u001b[38;5;241m.\u001b[39mobjective\u001b[38;5;241m.\u001b[39mdirection \u001b[38;5;241m=\u001b[39m original_direction\n\u001b[1;32m   1235\u001b[0m \u001b[38;5;28;01mreturn\u001b[39;00m solution\n",
      "File \u001b[0;32m~/.pyenv/versions/3.11.5/envs/bmca/lib/python3.11/site-packages/cobra/core/solution.py:166\u001b[0m, in \u001b[0;36mget_solution\u001b[0;34m(model, reactions, metabolites, raise_error)\u001b[0m\n\u001b[1;32m    138\u001b[0m \u001b[38;5;28;01mdef\u001b[39;00m \u001b[38;5;21mget_solution\u001b[39m(\n\u001b[1;32m    139\u001b[0m     model: \u001b[38;5;124m\"\u001b[39m\u001b[38;5;124mModel\u001b[39m\u001b[38;5;124m\"\u001b[39m,\n\u001b[1;32m    140\u001b[0m     reactions: Optional[Iterable[\u001b[38;5;124m\"\u001b[39m\u001b[38;5;124mReaction\u001b[39m\u001b[38;5;124m\"\u001b[39m]] \u001b[38;5;241m=\u001b[39m \u001b[38;5;28;01mNone\u001b[39;00m,\n\u001b[1;32m    141\u001b[0m     metabolites: Optional[Iterable[\u001b[38;5;124m\"\u001b[39m\u001b[38;5;124mMetabolite\u001b[39m\u001b[38;5;124m\"\u001b[39m]] \u001b[38;5;241m=\u001b[39m \u001b[38;5;28;01mNone\u001b[39;00m,\n\u001b[1;32m    142\u001b[0m     raise_error: \u001b[38;5;28mbool\u001b[39m \u001b[38;5;241m=\u001b[39m \u001b[38;5;28;01mFalse\u001b[39;00m,\n\u001b[1;32m    143\u001b[0m ) \u001b[38;5;241m-\u001b[39m\u001b[38;5;241m>\u001b[39m Solution:\n\u001b[1;32m    144\u001b[0m \u001b[38;5;250m    \u001b[39m\u001b[38;5;124;03m\"\"\"\u001b[39;00m\n\u001b[1;32m    145\u001b[0m \u001b[38;5;124;03m    Generate a solution representation of the current solver state.\u001b[39;00m\n\u001b[1;32m    146\u001b[0m \n\u001b[0;32m   (...)\u001b[0m\n\u001b[1;32m    164\u001b[0m \n\u001b[1;32m    165\u001b[0m \u001b[38;5;124;03m    \"\"\"\u001b[39;00m\n\u001b[0;32m--> 166\u001b[0m     \u001b[43mcheck_solver_status\u001b[49m\u001b[43m(\u001b[49m\u001b[43mmodel\u001b[49m\u001b[38;5;241;43m.\u001b[39;49m\u001b[43msolver\u001b[49m\u001b[38;5;241;43m.\u001b[39;49m\u001b[43mstatus\u001b[49m\u001b[43m,\u001b[49m\u001b[43m \u001b[49m\u001b[43mraise_error\u001b[49m\u001b[38;5;241;43m=\u001b[39;49m\u001b[43mraise_error\u001b[49m\u001b[43m)\u001b[49m\n\u001b[1;32m    167\u001b[0m     \u001b[38;5;28;01mif\u001b[39;00m reactions \u001b[38;5;129;01mis\u001b[39;00m \u001b[38;5;28;01mNone\u001b[39;00m:\n\u001b[1;32m    168\u001b[0m         reactions \u001b[38;5;241m=\u001b[39m model\u001b[38;5;241m.\u001b[39mreactions\n",
      "File \u001b[0;32m~/.pyenv/versions/3.11.5/envs/bmca/lib/python3.11/site-packages/cobra/util/solver.py:560\u001b[0m, in \u001b[0;36mcheck_solver_status\u001b[0;34m(status, raise_error)\u001b[0m\n\u001b[1;32m    556\u001b[0m     \u001b[38;5;28;01mraise\u001b[39;00m OptimizationError(\n\u001b[1;32m    557\u001b[0m         \u001b[38;5;124m\"\u001b[39m\u001b[38;5;124mModel is not optimized yet or solver context has been switched.\u001b[39m\u001b[38;5;124m\"\u001b[39m\n\u001b[1;32m    558\u001b[0m     )\n\u001b[1;32m    559\u001b[0m \u001b[38;5;28;01melse\u001b[39;00m:\n\u001b[0;32m--> 560\u001b[0m     \u001b[38;5;28;01mraise\u001b[39;00m OptimizationError(\u001b[38;5;124mf\u001b[39m\u001b[38;5;124m\"\u001b[39m\u001b[38;5;124mSolver status is \u001b[39m\u001b[38;5;124m'\u001b[39m\u001b[38;5;132;01m{\u001b[39;00mstatus\u001b[38;5;132;01m}\u001b[39;00m\u001b[38;5;124m'\u001b[39m\u001b[38;5;124m.\u001b[39m\u001b[38;5;124m\"\u001b[39m)\n",
      "\u001b[0;31mOptimizationError\u001b[0m: Solver status is 'infeasible'."
     ]
    }
   ],
   "source": [
    "model.optimize(raise_error=True)"
   ]
  },
  {
   "cell_type": "code",
   "execution_count": 19,
   "metadata": {},
   "outputs": [
    {
     "data": {
      "text/plain": [
       "['__class__',\n",
       " '__delattr__',\n",
       " '__dict__',\n",
       " '__dir__',\n",
       " '__doc__',\n",
       " '__enter__',\n",
       " '__eq__',\n",
       " '__exit__',\n",
       " '__format__',\n",
       " '__ge__',\n",
       " '__getattribute__',\n",
       " '__getstate__',\n",
       " '__gt__',\n",
       " '__hash__',\n",
       " '__init__',\n",
       " '__init_subclass__',\n",
       " '__le__',\n",
       " '__lt__',\n",
       " '__module__',\n",
       " '__ne__',\n",
       " '__new__',\n",
       " '__reduce__',\n",
       " '__reduce_ex__',\n",
       " '__repr__',\n",
       " '__setattr__',\n",
       " '__setstate__',\n",
       " '__sizeof__',\n",
       " '__str__',\n",
       " '__subclasshook__',\n",
       " '__weakref__',\n",
       " '_annotation',\n",
       " '_compartments',\n",
       " '_contexts',\n",
       " '_id',\n",
       " '_populate_solver',\n",
       " '_repr_html_',\n",
       " '_set_id_with_model',\n",
       " '_solver',\n",
       " '_tolerance',\n",
       " 'add_boundary',\n",
       " 'add_cons_vars',\n",
       " 'add_groups',\n",
       " 'add_metabolites',\n",
       " 'add_reactions',\n",
       " 'annotation',\n",
       " 'boundary',\n",
       " 'compartments',\n",
       " 'constraints',\n",
       " 'copy',\n",
       " 'demands',\n",
       " 'exchanges',\n",
       " 'genes',\n",
       " 'get_associated_groups',\n",
       " 'groups',\n",
       " 'id',\n",
       " 'medium',\n",
       " 'merge',\n",
       " 'metabolites',\n",
       " 'name',\n",
       " 'notes',\n",
       " 'objective',\n",
       " 'objective_direction',\n",
       " 'optimize',\n",
       " 'problem',\n",
       " 'reactions',\n",
       " 'remove_cons_vars',\n",
       " 'remove_groups',\n",
       " 'remove_metabolites',\n",
       " 'remove_reactions',\n",
       " 'repair',\n",
       " 'sinks',\n",
       " 'slim_optimize',\n",
       " 'solver',\n",
       " 'summary',\n",
       " 'tolerance',\n",
       " 'variables']"
      ]
     },
     "execution_count": 19,
     "metadata": {},
     "output_type": "execute_result"
    }
   ],
   "source": [
    "dir(model)"
   ]
  },
  {
   "cell_type": "code",
   "execution_count": 26,
   "metadata": {},
   "outputs": [
    {
     "name": "stdout",
     "output_type": "stream",
     "text": [
      "0 <= r1 <= 1000.0\n",
      "0 <= r1_reverse_7c92c <= -0.0\n",
      "0.01 <= r2 <= 10\n",
      "0 <= r2_reverse_d2791 <= 0\n",
      "0 <= r3 <= 5\n",
      "0 <= r3_reverse_9d3e6 <= 0\n",
      "6 <= r4 <= 1000.0\n",
      "0 <= r4_reverse_44379 <= 0\n"
     ]
    }
   ],
   "source": [
    "for c in model.variables:\n",
    "    print(c)"
   ]
  },
  {
   "cell_type": "code",
   "execution_count": 25,
   "metadata": {},
   "outputs": [
    {
     "name": "stdout",
     "output_type": "stream",
     "text": [
      "0 <= r1 <= 1000.0\n",
      "0 <= r1_reverse_7c92c <= -0.0\n",
      "0.01 <= r2 <= 10\n",
      "0 <= r2_reverse_d2791 <= 0\n",
      "0 <= r3 <= 5\n",
      "0 <= r3_reverse_9d3e6 <= 0\n",
      "6 <= r4 <= 1000.0\n",
      "0 <= r4_reverse_44379 <= 0\n"
     ]
    }
   ],
   "source": [
    "for c in model._solver.variables:\n",
    "    print(c)"
   ]
  },
  {
   "cell_type": "code",
   "execution_count": 27,
   "metadata": {},
   "outputs": [
    {
     "ename": "AttributeError",
     "evalue": "module 'optlang.gurobi_interface' has no attribute 'constraints'",
     "output_type": "error",
     "traceback": [
      "\u001b[0;31m---------------------------------------------------------------------------\u001b[0m",
      "\u001b[0;31mAttributeError\u001b[0m                            Traceback (most recent call last)",
      "Cell \u001b[0;32mIn[27], line 1\u001b[0m\n\u001b[0;32m----> 1\u001b[0m \u001b[38;5;28;01mfor\u001b[39;00m c \u001b[38;5;129;01min\u001b[39;00m \u001b[43mmodel\u001b[49m\u001b[38;5;241;43m.\u001b[39;49m\u001b[43mproblem\u001b[49m\u001b[38;5;241;43m.\u001b[39;49m\u001b[43mconstraints\u001b[49m:\n\u001b[1;32m      2\u001b[0m     \u001b[38;5;28mprint\u001b[39m(c)\n",
      "\u001b[0;31mAttributeError\u001b[0m: module 'optlang.gurobi_interface' has no attribute 'constraints'"
     ]
    }
   ],
   "source": [
    "for c in model.problem.constraints:\n",
    "    print(c)"
   ]
  },
  {
   "cell_type": "code",
   "execution_count": 31,
   "metadata": {},
   "outputs": [
    {
     "name": "stdout",
     "output_type": "stream",
     "text": [
      "[0 <= r1 <= 1000.0, 0 <= r1_reverse_7c92c <= -0.0, 0.01 <= r2 <= 10, 0 <= r2_reverse_d2791 <= 0, 0 <= r3 <= 5, 0 <= r3_reverse_9d3e6 <= 0, 6 <= r4 <= 1000.0, 0 <= r4_reverse_44379 <= 0]\n"
     ]
    }
   ],
   "source": [
    "print([v for v in model.variables])\n",
    "\n"
   ]
  },
  {
   "cell_type": "code",
   "execution_count": null,
   "metadata": {},
   "outputs": [],
   "source": [
    "# reaction_flux = model.problem.Variable('v', lb=0, ub=10)\n",
    "r4 = model.reactions.r4\n",
    "\n",
    "# Set the objective to maximize r4\n",
    "model.objective = r4\n",
    "\n",
    "# Optimize for growth to find the maximum r4 rate\n",
    "r4_solution = model.optimize()\n",
    "max_r4 = r4_solution.objective_value\n",
    "\n",
    "\n",
    "slack_var = model.problem.Variable(\"r4_slack\", lb=0)\n",
    "\n",
    "# Add a slack variable via model.problem.Constraint\n",
    "# slack_variable = model.problem.Variable('s', lb=0)\n",
    "lower_bound_constraint = model.problem.Constraint(r4 + slack_variable, lb=6, name='lower_bound_constraint')\n",
    "model.solver.add(lower_bound_constraint)\n",
    "\n",
    "model.problem.\n"
   ]
  },
  {
   "cell_type": "code",
   "execution_count": 4,
   "metadata": {},
   "outputs": [
    {
     "name": "stdout",
     "output_type": "stream",
     "text": [
      "Set parameter TokenServer to value \"leghorn.emsl.pnl.gov\"\n",
      "Set parameter TokenServer to value \"leghorn.emsl.pnl.gov\"\n",
      "Read LP format model from file /var/folders/k9/b8pxky2572sdtgy2vnxhcljw0000gn/T/tmpgg0lmbg6.lp\n",
      "Reading time = 0.00 seconds\n",
      ": 4 rows, 9 columns, 13 nonzeros\n",
      "Read LP format model from file /var/folders/k9/b8pxky2572sdtgy2vnxhcljw0000gn/T/tmpl3r801u1.lp\n",
      "Reading time = 0.00 seconds\n",
      ": 4 rows, 9 columns, 13 nonzeros\n",
      "Set parameter TokenServer to value \"leghorn.emsl.pnl.gov\"\n",
      "Set parameter TokenServer to value \"leghorn.emsl.pnl.gov\"\n",
      "Read LP format model from file /var/folders/k9/b8pxky2572sdtgy2vnxhcljw0000gn/T/tmpmpx7v482.lp\n",
      "Read LP format model from file /var/folders/k9/b8pxky2572sdtgy2vnxhcljw0000gn/T/tmpdtjdujr9.lp\n",
      "Reading time = 0.00 seconds\n",
      ": 4 rows, 9 columns, 13 nonzeros\n",
      "Reading time = 0.00 seconds\n",
      ": 4 rows, 9 columns, 13 nonzeros\n"
     ]
    },
    {
     "data": {
      "text/html": [
       "<div>\n",
       "<style scoped>\n",
       "    .dataframe tbody tr th:only-of-type {\n",
       "        vertical-align: middle;\n",
       "    }\n",
       "\n",
       "    .dataframe tbody tr th {\n",
       "        vertical-align: top;\n",
       "    }\n",
       "\n",
       "    .dataframe thead th {\n",
       "        text-align: right;\n",
       "    }\n",
       "</style>\n",
       "<table border=\"1\" class=\"dataframe\">\n",
       "  <thead>\n",
       "    <tr style=\"text-align: right;\">\n",
       "      <th></th>\n",
       "      <th>minimum</th>\n",
       "      <th>maximum</th>\n",
       "    </tr>\n",
       "  </thead>\n",
       "  <tbody>\n",
       "    <tr>\n",
       "      <th>r2</th>\n",
       "      <td>0.01</td>\n",
       "      <td>5.0</td>\n",
       "    </tr>\n",
       "    <tr>\n",
       "      <th>r3</th>\n",
       "      <td>0.01</td>\n",
       "      <td>5.0</td>\n",
       "    </tr>\n",
       "  </tbody>\n",
       "</table>\n",
       "</div>"
      ],
      "text/plain": [
       "    minimum  maximum\n",
       "r2     0.01      5.0\n",
       "r3     0.01      5.0"
      ]
     },
     "execution_count": 4,
     "metadata": {},
     "output_type": "execute_result"
    }
   ],
   "source": [
    "model = get_cobra_model()\n",
    "\n",
    "model = add_genes_to_r2(model)\n",
    "model = add_genes_to_r3(model)\n",
    "\n",
    "rids = [r.id for r in model.reactions]\n",
    "rids\n",
    "\n",
    "\n",
    "\n",
    "opt_model, flux_bounds = get_flux_bounds(model, ['r1','r4'])\n",
    "flux_bounds"
   ]
  },
  {
   "cell_type": "code",
   "execution_count": 5,
   "metadata": {},
   "outputs": [
    {
     "data": {
      "text/html": [
       "<div>\n",
       "<style scoped>\n",
       "    .dataframe tbody tr th:only-of-type {\n",
       "        vertical-align: middle;\n",
       "    }\n",
       "\n",
       "    .dataframe tbody tr th {\n",
       "        vertical-align: top;\n",
       "    }\n",
       "\n",
       "    .dataframe thead th {\n",
       "        text-align: right;\n",
       "    }\n",
       "</style>\n",
       "<table border=\"1\" class=\"dataframe\">\n",
       "  <thead>\n",
       "    <tr style=\"text-align: right;\">\n",
       "      <th></th>\n",
       "      <th>strain1</th>\n",
       "      <th>strain2</th>\n",
       "    </tr>\n",
       "    <tr>\n",
       "      <th>Reaction_ID</th>\n",
       "      <th></th>\n",
       "      <th></th>\n",
       "    </tr>\n",
       "  </thead>\n",
       "  <tbody>\n",
       "    <tr>\n",
       "      <th>r1</th>\n",
       "      <td>NaN</td>\n",
       "      <td>NaN</td>\n",
       "    </tr>\n",
       "    <tr>\n",
       "      <th>r2</th>\n",
       "      <td>0.166667</td>\n",
       "      <td>1.0</td>\n",
       "    </tr>\n",
       "    <tr>\n",
       "      <th>r3</th>\n",
       "      <td>NaN</td>\n",
       "      <td>NaN</td>\n",
       "    </tr>\n",
       "    <tr>\n",
       "      <th>r4</th>\n",
       "      <td>NaN</td>\n",
       "      <td>NaN</td>\n",
       "    </tr>\n",
       "  </tbody>\n",
       "</table>\n",
       "</div>"
      ],
      "text/plain": [
       "              strain1  strain2\n",
       "Reaction_ID                   \n",
       "r1                NaN      NaN\n",
       "r2           0.166667      1.0\n",
       "r3                NaN      NaN\n",
       "r4                NaN      NaN"
      ]
     },
     "execution_count": 5,
     "metadata": {},
     "output_type": "execute_result"
    }
   ],
   "source": [
    "\n",
    "transcriptomics = pd.DataFrame({'strain1': [1, 2, 3, 4, 5], 'strain2': [6, 7, 8, 9, 10]}, index=['gene1', 'gene2', 'gene3', 'gene5', 'gene6'])\n",
    "\n",
    "enzyme_activity = convert_transcriptomics_to_enzyme_activity(transcriptomics, model)\n",
    "\n",
    "scaled_enzyme_activity = enzyme_activity\n",
    "scaled_enzyme_activity = scaled_enzyme_activity.divide(scaled_enzyme_activity['strain2'], axis=0)\n",
    "scaled_enzyme_activity\n"
   ]
  },
  {
   "cell_type": "code",
   "execution_count": 11,
   "metadata": {},
   "outputs": [
    {
     "data": {
      "text/html": [
       "<div>\n",
       "<style scoped>\n",
       "    .dataframe tbody tr th:only-of-type {\n",
       "        vertical-align: middle;\n",
       "    }\n",
       "\n",
       "    .dataframe tbody tr th {\n",
       "        vertical-align: top;\n",
       "    }\n",
       "\n",
       "    .dataframe thead th {\n",
       "        text-align: right;\n",
       "    }\n",
       "</style>\n",
       "<table border=\"1\" class=\"dataframe\">\n",
       "  <thead>\n",
       "    <tr style=\"text-align: right;\">\n",
       "      <th></th>\n",
       "      <th>minimum</th>\n",
       "      <th>maximum</th>\n",
       "    </tr>\n",
       "  </thead>\n",
       "  <tbody>\n",
       "    <tr>\n",
       "      <th>r2</th>\n",
       "      <td>0.01</td>\n",
       "      <td>5.0</td>\n",
       "    </tr>\n",
       "    <tr>\n",
       "      <th>r3</th>\n",
       "      <td>0.01</td>\n",
       "      <td>5.0</td>\n",
       "    </tr>\n",
       "  </tbody>\n",
       "</table>\n",
       "</div>"
      ],
      "text/plain": [
       "    minimum  maximum\n",
       "r2     0.01      5.0\n",
       "r3     0.01      5.0"
      ]
     },
     "metadata": {},
     "output_type": "display_data"
    }
   ],
   "source": [
    "display(flux_bounds)"
   ]
  },
  {
   "cell_type": "code",
   "execution_count": 36,
   "metadata": {},
   "outputs": [
    {
     "data": {
      "text/latex": [
       "$\\displaystyle 1.0 \\cdot r_{2} - 1.0 \\cdot r_{2 reverse d2791}$"
      ],
      "text/plain": [
       "1.0*r2 - 1.0*r2_reverse_d2791"
      ]
     },
     "execution_count": 36,
     "metadata": {},
     "output_type": "execute_result"
    }
   ],
   "source": [
    "model = get_cobra_model()\n",
    "model.reactions.r2.flux_expression\n"
   ]
  },
  {
   "cell_type": "code",
   "execution_count": null,
   "metadata": {},
   "outputs": [],
   "source": []
  },
  {
   "cell_type": "code",
   "execution_count": 40,
   "metadata": {},
   "outputs": [
    {
     "name": "stdout",
     "output_type": "stream",
     "text": [
      "r1:  --> m1 (0.0, 1000.0)\n",
      "r2: m1 --> m2 (0.01, 10)\n",
      "r3: m2 --> m3 (0, 5)\n",
      "r4: m3 -->  (0.0, 1000.0)\n"
     ]
    }
   ],
   "source": [
    "# Get basic cobra model & print reaction bounds\n",
    "model = get_cobra_model()\n",
    "for r in model.reactions:\n",
    "    print(r, r.bounds)\n"
   ]
  },
  {
   "cell_type": "code",
   "execution_count": 41,
   "metadata": {},
   "outputs": [
    {
     "name": "stdout",
     "output_type": "stream",
     "text": [
      "fa5eb76c-08d4-11ef-8a51-c2ad4eaf5634: 0 <= -SLACK_r3 + 1.0*r3 - 1.0*r3_reverse_9d3e6 <= 3\n"
     ]
    }
   ],
   "source": [
    "# make model infeasible\n",
    "\n",
    "# Define the growth objective as the biomass reaction\n",
    "biomass_reaction = model.reactions.get_by_id('r4')\n",
    "\n",
    "# Set the objective to maximize growth\n",
    "model.objective = biomass_reaction\n",
    "\n",
    "model.reactions.r1.lower_bound = 4\n",
    "\n",
    "this_slack_var = model.problem.Variable('SLACK_r3', lb=0)\n",
    "upper_bound = 3\n",
    "constraint = model.problem.Constraint(model.reactions.get_by_id('r3').flux_expression - this_slack_var, lb=0, ub=upper_bound)\n",
    "print(constraint)\n",
    "model.add_cons_vars(constraint)\n",
    "\n",
    "combined_objective = model.problem.Objective(\n",
    "     0.001 * biomass_reaction.flux_expression - sum([this_slack_var]),\n",
    "    direction='max'\n",
    ")\n",
    "\n",
    "# Set the combined objective as the objective of the model\n",
    "model.objective = combined_objective\n",
    "\n",
    "# Optimize the model with the combined objective\n",
    "combined_solution = model.optimize(raise_error=True)\n",
    "\n"
   ]
  },
  {
   "cell_type": "code",
   "execution_count": 65,
   "metadata": {},
   "outputs": [
    {
     "data": {
      "text/plain": [
       "[4 <= r1 <= 1000.0,\n",
       " 0 <= r1_reverse_7c92c <= 0,\n",
       " 0.01 <= r2 <= 10,\n",
       " 0 <= r2_reverse_d2791 <= 0,\n",
       " 0 <= r3 <= 5,\n",
       " 0 <= r3_reverse_9d3e6 <= 0,\n",
       " 0 <= r4 <= 1000.0,\n",
       " 0 <= r4_reverse_44379 <= -0.0,\n",
       " 0 <= SLACK_r3]"
      ]
     },
     "metadata": {},
     "output_type": "display_data"
    },
    {
     "data": {
      "text/latex": [
       "$\\displaystyle SLACK_{r3}$"
      ],
      "text/plain": [
       "0 <= SLACK_r3"
      ]
     },
     "execution_count": 65,
     "metadata": {},
     "output_type": "execute_result"
    }
   ],
   "source": [
    "vars = [v for v in model.variables]\n",
    "display(vars)\n",
    "var3 = vars[-1]\n",
    "var3"
   ]
  },
  {
   "cell_type": "code",
   "execution_count": null,
   "metadata": {},
   "outputs": [],
   "source": []
  },
  {
   "cell_type": "code",
   "execution_count": 68,
   "metadata": {},
   "outputs": [
    {
     "data": {
      "text/plain": [
       "[1.0*r1 - 1.0*r1_reverse_7c92c - 1.0*r2 + 1.0*r2_reverse_d2791,\n",
       " 1.0*r2 - 1.0*r2_reverse_d2791 - 1.0*r3 + 1.0*r3_reverse_9d3e6,\n",
       " 1.0*r3 - 1.0*r3_reverse_9d3e6 - 1.0*r4 + 1.0*r4_reverse_44379,\n",
       " -1.0*SLACK_r3 + 1.0*r3 - 1.0*r3_reverse_9d3e6]"
      ]
     },
     "metadata": {},
     "output_type": "display_data"
    },
    {
     "data": {
      "text/latex": [
       "$\\displaystyle - 1.0 \\cdot SLACK_{r3} + 1.0 \\cdot r_{3} - 1.0 \\cdot r_{3 reverse 9d3e6}$"
      ],
      "text/plain": [
       "-1.0*SLACK_r3 + 1.0*r3 - 1.0*r3_reverse_9d3e6"
      ]
     },
     "execution_count": 68,
     "metadata": {},
     "output_type": "execute_result"
    }
   ],
   "source": [
    "cons = [c.expression for c in model.constraints]\n",
    "display(cons)\n",
    "cons3 = cons[-1]\n",
    "cons3"
   ]
  },
  {
   "cell_type": "code",
   "execution_count": 44,
   "metadata": {},
   "outputs": [
    {
     "name": "stdout",
     "output_type": "stream",
     "text": [
      "r1:  --> m1 (4, 1000.0)\n",
      "r2: m1 --> m2 (0.01, 10)\n",
      "r3: m2 --> m3 (0, 5)\n",
      "r4: m3 -->  (0.0, 1000.0)\n"
     ]
    }
   ],
   "source": [
    "for r in model.reactions:\n",
    "    print(r, r.bounds)\n"
   ]
  },
  {
   "cell_type": "code",
   "execution_count": 69,
   "metadata": {},
   "outputs": [
    {
     "data": {
      "text/html": [
       "<strong><em>Optimal</em> solution with objective value -0.996</strong><br><div>\n",
       "<style scoped>\n",
       "    .dataframe tbody tr th:only-of-type {\n",
       "        vertical-align: middle;\n",
       "    }\n",
       "\n",
       "    .dataframe tbody tr th {\n",
       "        vertical-align: top;\n",
       "    }\n",
       "\n",
       "    .dataframe thead th {\n",
       "        text-align: right;\n",
       "    }\n",
       "</style>\n",
       "<table border=\"1\" class=\"dataframe\">\n",
       "  <thead>\n",
       "    <tr style=\"text-align: right;\">\n",
       "      <th></th>\n",
       "      <th>fluxes</th>\n",
       "      <th>reduced_costs</th>\n",
       "    </tr>\n",
       "  </thead>\n",
       "  <tbody>\n",
       "    <tr>\n",
       "      <th>r1</th>\n",
       "      <td>4.0</td>\n",
       "      <td>-1.998</td>\n",
       "    </tr>\n",
       "    <tr>\n",
       "      <th>r2</th>\n",
       "      <td>4.0</td>\n",
       "      <td>0.000</td>\n",
       "    </tr>\n",
       "    <tr>\n",
       "      <th>r3</th>\n",
       "      <td>4.0</td>\n",
       "      <td>0.000</td>\n",
       "    </tr>\n",
       "    <tr>\n",
       "      <th>r4</th>\n",
       "      <td>4.0</td>\n",
       "      <td>0.000</td>\n",
       "    </tr>\n",
       "  </tbody>\n",
       "</table>\n",
       "</div>"
      ],
      "text/plain": [
       "<Solution -0.996 at 0x2b1d7a0d0>"
      ]
     },
     "execution_count": 69,
     "metadata": {},
     "output_type": "execute_result"
    }
   ],
   "source": [
    "combined_solution"
   ]
  },
  {
   "cell_type": "code",
   "execution_count": 70,
   "metadata": {},
   "outputs": [
    {
     "data": {
      "text/plain": [
       "-0.996"
      ]
     },
     "execution_count": 70,
     "metadata": {},
     "output_type": "execute_result"
    }
   ],
   "source": [
    "# make model infeasible\n",
    "\n",
    "# Define the growth objective as the biomass reaction\n",
    "biomass_reaction = model.reactions.get_by_id('r4')\n",
    "\n",
    "# Set the objective to maximize growth\n",
    "model.objective = biomass_reaction\n",
    "\n",
    "model.reactions.r1.lower_bound = 4\n",
    "\n",
    "this_slack_var = model.problem.Variable('SLACK_r3', lb=0)\n",
    "upper_bound = 3\n",
    "constraint = model.problem.Constraint(model.reactions.get_by_id('r3').flux_expression - this_slack_var, lb=0, ub=upper_bound)\n",
    "print(constraint)\n",
    "model.add_cons_vars(constraint)\n",
    "\n",
    "combined_objective = model.problem.Objective(\n",
    "     0.001 * biomass_reaction.flux_expression - sum([this_slack_var]),\n",
    "    direction='max'\n",
    ")\n",
    "\n",
    "# Set the combined objective as the objective of the model\n",
    "model.objective = combined_objective\n",
    "\n",
    "# Optimize the model with the combined objective\n",
    "combined_solution = model.optimize(raise_error=True)"
   ]
  },
  {
   "cell_type": "code",
   "execution_count": 20,
   "metadata": {},
   "outputs": [
    {
     "name": "stdout",
     "output_type": "stream",
     "text": [
      "698bb520-08d2-11ef-8a51-c2ad4eaf5634: 0 <= -SLACK_r2 + 1.0*r2 - 1.0*r2_reverse_d2791 <= 0.8333333333333333\n"
     ]
    }
   ],
   "source": [
    "import cobra\n",
    "import numpy as np\n",
    "\n",
    "# Load your metabolic model (this could be from a file or predefined model)\n",
    "# model = cobra.io.load_model('your_model_file.json')\n",
    "# model = get_cobra_model()\n",
    "\n",
    "\n",
    "\n",
    "\n",
    "# # Optimize for growth to find the maximum growth rate\n",
    "# growth_solution = model.optimize()\n",
    "# max_growth = growth_solution.objective_value\n",
    "\n",
    "this_strain = 'strain1'\n",
    "\n",
    "valid_rxns = [model.reactions.get_by_id(idx) for idx in scaled_enzyme_activity.index if (not np.isnan(scaled_enzyme_activity.loc[idx, this_strain])) and (not np.isinf(scaled_enzyme_activity.loc[idx, this_strain]))]\n",
    "slack_vars = []\n",
    "\n",
    "# Add slack variables as additional reactions with only an upper bound\n",
    "for reaction in valid_rxns:\n",
    "    # Create a new reaction representing the slack variable\n",
    "    # slack_reaction = cobra.Reaction('SLACK_' + reaction.id)\n",
    "    this_slack_var = model.problem.Variable('SLACK_' + reaction.id, lb=0)\n",
    "    slack_vars.append(this_slack_var)\n",
    "\n",
    "\n",
    "    # slack_reaction.bounds = (0, 1000)  # Assuming a large upper bound for the slack variable\n",
    "    # Add the slack reaction to the model\n",
    "    # model.add_reactions([slack_reaction])\n",
    "    upper_bound = flux_bounds.loc[reaction.id, 'maximum'] * scaled_enzyme_activity.loc[reaction.id, 'strain1']\n",
    "    constraint = model.problem.Constraint(reaction.flux_expression - this_slack_var, lb=0, ub=upper_bound)\n",
    "    print(constraint)\n",
    "    model.add_cons_vars(constraint)\n",
    "\n",
    "    # Link the slack reaction to the original reaction by modifying the bounds\n",
    "    # reaction.upper_bound += slack_reaction.flux_expression\n",
    "\n",
    "# Define a new combined objective: maximize growth and minimize sum of slack variables\n",
    "# Here we assume that the slack reactions have been named with a 'SLACK_' prefix\n",
    "# slack_reactions = [model.reactions.get_by_id('SLACK_' + r.id) for r in valid_rxns]\n",
    "combined_objective = model.problem.Objective(\n",
    "    biomass_reaction.flux_expression - 0.001 * sum(slack_vars),\n",
    "    direction='max'\n",
    ")\n",
    "\n",
    "# Set the combined objective as the objective of the model\n",
    "model.objective = combined_objective\n",
    "\n",
    "# Optimize the model with the combined objective\n",
    "combined_solution = model.optimize()"
   ]
  },
  {
   "cell_type": "code",
   "execution_count": 21,
   "metadata": {},
   "outputs": [
    {
     "data": {
      "text/html": [
       "<strong><em>Optimal</em> solution with objective value 4.996</strong><br><div>\n",
       "<style scoped>\n",
       "    .dataframe tbody tr th:only-of-type {\n",
       "        vertical-align: middle;\n",
       "    }\n",
       "\n",
       "    .dataframe tbody tr th {\n",
       "        vertical-align: top;\n",
       "    }\n",
       "\n",
       "    .dataframe thead th {\n",
       "        text-align: right;\n",
       "    }\n",
       "</style>\n",
       "<table border=\"1\" class=\"dataframe\">\n",
       "  <thead>\n",
       "    <tr style=\"text-align: right;\">\n",
       "      <th></th>\n",
       "      <th>fluxes</th>\n",
       "      <th>reduced_costs</th>\n",
       "    </tr>\n",
       "  </thead>\n",
       "  <tbody>\n",
       "    <tr>\n",
       "      <th>r1</th>\n",
       "      <td>5.0</td>\n",
       "      <td>0.000</td>\n",
       "    </tr>\n",
       "    <tr>\n",
       "      <th>r2</th>\n",
       "      <td>5.0</td>\n",
       "      <td>0.000</td>\n",
       "    </tr>\n",
       "    <tr>\n",
       "      <th>r3</th>\n",
       "      <td>5.0</td>\n",
       "      <td>1.998</td>\n",
       "    </tr>\n",
       "    <tr>\n",
       "      <th>r4</th>\n",
       "      <td>5.0</td>\n",
       "      <td>0.000</td>\n",
       "    </tr>\n",
       "  </tbody>\n",
       "</table>\n",
       "</div>"
      ],
      "text/plain": [
       "<Solution 4.996 at 0x2b933dc10>"
      ]
     },
     "execution_count": 21,
     "metadata": {},
     "output_type": "execute_result"
    }
   ],
   "source": [
    "combined_solution"
   ]
  },
  {
   "cell_type": "code",
   "execution_count": null,
   "metadata": {},
   "outputs": [],
   "source": [
    "new = model.problem.Constraint(model.objective.expression, lb=0.99)\n",
    "model.solver.add(new)"
   ]
  },
  {
   "cell_type": "code",
   "execution_count": null,
   "metadata": {},
   "outputs": [],
   "source": [
    "from optlang import Model, Variable, Constraint\n",
    "\n",
    "# Create a model\n",
    "model = Model(name='FBA_Model')\n",
    "\n",
    "# Define a reaction variable (v) with a lower bound (lb) and upper bound (ub)\n",
    "reaction_flux = Variable('v', lb=0, ub=10)\n",
    "\n",
    "# Define a slack variable (s) for the upper bound, which must be non-negative\n",
    "slack_variable = Variable('s', lb=0)\n",
    "\n",
    "# Modify the upper bound constraint to include the slack variable\n",
    "# The original upper bound is now the sum of the reaction flux and the slack variable\n",
    "upper_bound_constraint = Constraint(reaction_flux - slack_variable, ub=10, name='upper_bound_constraint')\n",
    "\n",
    "# Add the reaction flux and the slack variable to the model17model.add([reaction_flux, slack_variable])\n",
    "# Add the modified upper bound constraint to the model\n",
    "model.add(upper_bound_constraint)\n",
    "\n",
    "# Now you can proceed with the optimization of the model\n",
    "model.optimize()"
   ]
  },
  {
   "cell_type": "code",
   "execution_count": null,
   "metadata": {},
   "outputs": [],
   "source": [
    "from optlang import Model, Variable, Constraint, Objective\n",
    "# Assuming you have a model with reaction fluxes and slack variables\n",
    "model = Model(name='FBA_Model')\n",
    "\n",
    "# Define your reaction flux variable (e.g., biomass production reaction)\n",
    "biomass_reaction = Variable('biomass', lb=0, ub=1000)\n",
    "\n",
    "# Define slack variables for the upper bounds of other reactions\n",
    "slack_variables = [Variable(f'slack_{i}', lb=0) for i in range(1, 4)]\n",
    "\n",
    "# Add variables to the model\n",
    "model.add([biomass_reaction] + slack_variables)\n",
    "\n",
    "# Define constraints (not shown here) and add them to the model\n",
    "# ...\n",
    "\n",
    "# Now, set up the combined objective\n",
    "# For example, you might want to maximize growth (biomass_reaction) while minimizing the sum of slack variables\n",
    "\n",
    "# First, define the objective for maximizing growth\n",
    "growth_objective = Objective(biomass_reaction, direction='max')\n",
    "\n",
    "# Then, define the objective for minimizing the sum of slack variables\n",
    "slack_objective = Objective(sum(slack_variables), direction='min')\n",
    "\n",
    "# Combine the objectives into a single objective\n",
    "# You can use weights to prioritize one objective over the other\n",
    "# For example, you might want to prioritize growth over minimizing slack\n",
    "weight_for_growth = 1\n",
    "weight_for_slack = 0.01  # A smaller weight since we want to prioritize growth\n",
    "\n",
    "combined_objective = Objective(weight_for_growth * growth_objective.expression - weight_for_slack * slack_objective.expression, direction='max')\n",
    "\n",
    "# Set the combined objective as the objective of the model\n",
    "model.objective = combined_objective\n",
    "\n",
    "# Now you can optimize the model with the combined objective\n",
    "solution = model.optimize()"
   ]
  }
 ],
 "metadata": {
  "kernelspec": {
   "display_name": "bmca",
   "language": "python",
   "name": "python3"
  },
  "language_info": {
   "codemirror_mode": {
    "name": "ipython",
    "version": 3
   },
   "file_extension": ".py",
   "mimetype": "text/x-python",
   "name": "python",
   "nbconvert_exporter": "python",
   "pygments_lexer": "ipython3",
   "version": "3.11.5"
  }
 },
 "nbformat": 4,
 "nbformat_minor": 2
}
